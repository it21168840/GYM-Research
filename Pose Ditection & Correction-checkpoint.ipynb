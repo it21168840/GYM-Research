import pandas as pd
# Replace the file path with the location of your CSV file
file_path = "C:\jupyter\poses\data\exercise_data.csv"
# Load the dataset
data = pd.read_csv(file_path)

# Display the first few rows of the dataset
print(data.head())
import pandas as pd
from sklearn.model_selection import train_test_split
from sklearn.ensemble import RandomForestClassifier
from sklearn.metrics import accuracy_score, classification_report
import joblib
# Load the dataset
data = pd.read_csv("C:\jupyter\poses\data\exercise_data.csv")
# Separate features (X) and labels (y)
X = data.drop(columns=['pose_id', 'pose'])  
y = data['pose']  
# Check shapes to confirm the split
print(f"Feature Matrix (X) shape: {X.shape}")
print(f"Target Vector (y) shape: {y.shape}")
# Split the dataset into training and testing sets (80% train, 20% test)
X_train, X_test, y_train, y_test = train_test_split(X, y, test_size=0.2, random_state=42)
from sklearn.preprocessing import LabelEncoder

# Initialize the label encoder
label_encoder = LabelEncoder()

# Encode the 'pose' column (target variable)
y = label_encoder.fit_transform(data['pose'])

# check the mapping of labels to their numeric encoding
print(dict(zip(label_encoder.classes_, label_encoder.transform(label_encoder.classes_))))

# Drop the 'pose' and 'pose_id' columns from the feature set
X = data.drop(columns=['pose', 'pose_id'])

# Convert all features to numeric (if any columns contain non-numeric values)
X = X.apply(pd.to_numeric, errors='coerce')

# Handle any NaN values in the features (after conversion to numeric)
X.fillna(0, inplace=True)  # Replace NaN with 0 or use other imputation methods
from sklearn.model_selection import train_test_split

# Split the data into training and testing sets
X_train, X_test, y_train, y_test = train_test_split(X, y, test_size=0.2, random_state=42)
from sklearn.ensemble import RandomForestClassifier

# Initialize the Random Forest Classifier
model = RandomForestClassifier(n_estimators=100, random_state=42)

# Train the model
model.fit(X_train, y_train)
from sklearn.metrics import accuracy_score, classification_report

# Make predictions
y_pred = model.predict(X_test)

# Evaluate the model's accuracy
accuracy = accuracy_score(y_test, y_pred)
print(f"Accuracy: {accuracy}")

# Print classification report (Precision, Recall, F1-Score)
print("\nClassification Report:")
print(classification_report(y_test, y_pred))
import joblib

# Save the trained model
joblib.dump(model, 'exercise_pose_model.pkl')
# Load the saved model
model = joblib.load('exercise_pose_model.pkl')
# Make predictions on the test data
y_test_pred = model.predict(X_test)

# Make predictions on the training data (for validation)
y_train_pred = model.predict(X_train)
from sklearn.metrics import accuracy_score

# Test accuracy
test_accuracy = accuracy_score(y_test, y_test_pred)

# Training accuracy (Validation accuracy)
train_accuracy = accuracy_score(y_train, y_train_pred)

# Print the results
print(f"Test Accuracy: {test_accuracy * 100:.2f}%")
print(f"Training Accuracy (Validation Accuracy): {train_accuracy * 100:.2f}%")
import matplotlib.pyplot as plt
import matplotlib.pyplot as plt
from sklearn.metrics import confusion_matrix, ConfusionMatrixDisplay

# Get the confusion matrix for test data
cm_test = confusion_matrix(y_test, y_test_pred)

# Display the confusion matrix
cm_display_test = ConfusionMatrixDisplay(confusion_matrix=cm_test, display_labels=label_encoder.classes_)
cm_display_test.plot(cmap='Blues')
plt.title("Test Set Confusion Matrix")  
plt.show()

# Get the confusion matrix for training data
cm_train = confusion_matrix(y_train, y_train_pred)

# Display the confusion matrix
cm_display_train = ConfusionMatrixDisplay(confusion_matrix=cm_train, display_labels=label_encoder.classes_)
cm_display_train.plot(cmap='Blues')
plt.title("Training Set Confusion Matrix")  
plt.show()
from sklearn.metrics import classification_report

# Classification report for test data
print("\nClassification Report (Test Data):")
print(classification_report(y_test, y_test_pred))

# Classification report for training data
print("\nClassification Report (Training Data):")
print(classification_report(y_train, y_train_pred))
